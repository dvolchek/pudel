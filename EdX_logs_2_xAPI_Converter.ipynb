{
  "nbformat": 4,
  "nbformat_minor": 0,
  "metadata": {
    "colab": {
      "name": "EdX_logs_2_xAPI_Converter.ipynb",
      "provenance": [],
      "collapsed_sections": [],
      "authorship_tag": "ABX9TyPcm0jy06SCH6P219cGsQzT",
      "include_colab_link": true
    },
    "kernelspec": {
      "name": "python3",
      "display_name": "Python 3"
    },
    "language_info": {
      "name": "python"
    },
    "widgets": {
      "application/vnd.jupyter.widget-state+json": {
        "14da1969f6ad4b388014c96d500eb279": {
          "model_module": "@jupyter-widgets/controls",
          "model_name": "HBoxModel",
          "state": {
            "_view_name": "HBoxView",
            "_dom_classes": [],
            "_model_name": "HBoxModel",
            "_view_module": "@jupyter-widgets/controls",
            "_model_module_version": "1.5.0",
            "_view_count": null,
            "_view_module_version": "1.5.0",
            "box_style": "",
            "layout": "IPY_MODEL_34ed6c7544564b989f275059fc440963",
            "_model_module": "@jupyter-widgets/controls",
            "children": [
              "IPY_MODEL_c68e203b20004aa7a74295e4b80a7777",
              "IPY_MODEL_fe9a102454464a21847b11feb59fbd82"
            ]
          }
        },
        "34ed6c7544564b989f275059fc440963": {
          "model_module": "@jupyter-widgets/base",
          "model_name": "LayoutModel",
          "state": {
            "_view_name": "LayoutView",
            "grid_template_rows": null,
            "right": null,
            "justify_content": null,
            "_view_module": "@jupyter-widgets/base",
            "overflow": null,
            "_model_module_version": "1.2.0",
            "_view_count": null,
            "flex_flow": null,
            "width": null,
            "min_width": null,
            "border": null,
            "align_items": null,
            "bottom": null,
            "_model_module": "@jupyter-widgets/base",
            "top": null,
            "grid_column": null,
            "overflow_y": null,
            "overflow_x": null,
            "grid_auto_flow": null,
            "grid_area": null,
            "grid_template_columns": null,
            "flex": null,
            "_model_name": "LayoutModel",
            "justify_items": null,
            "grid_row": null,
            "max_height": null,
            "align_content": null,
            "visibility": null,
            "align_self": null,
            "height": null,
            "min_height": null,
            "padding": null,
            "grid_auto_rows": null,
            "grid_gap": null,
            "max_width": null,
            "order": null,
            "_view_module_version": "1.2.0",
            "grid_template_areas": null,
            "object_position": null,
            "object_fit": null,
            "grid_auto_columns": null,
            "margin": null,
            "display": null,
            "left": null
          }
        },
        "c68e203b20004aa7a74295e4b80a7777": {
          "model_module": "@jupyter-widgets/controls",
          "model_name": "FloatProgressModel",
          "state": {
            "_view_name": "ProgressView",
            "style": "IPY_MODEL_07d3e04f50ee46578cd10a25755e196f",
            "_dom_classes": [],
            "description": "  0%",
            "_model_name": "FloatProgressModel",
            "bar_style": "danger",
            "max": 2593073,
            "_view_module": "@jupyter-widgets/controls",
            "_model_module_version": "1.5.0",
            "value": 2308,
            "_view_count": null,
            "_view_module_version": "1.5.0",
            "orientation": "horizontal",
            "min": 0,
            "description_tooltip": null,
            "_model_module": "@jupyter-widgets/controls",
            "layout": "IPY_MODEL_5647cb57eb3a4a238a7aecdba35602e5"
          }
        },
        "fe9a102454464a21847b11feb59fbd82": {
          "model_module": "@jupyter-widgets/controls",
          "model_name": "HTMLModel",
          "state": {
            "_view_name": "HTMLView",
            "style": "IPY_MODEL_cb1b7ee28007456eaf68b016d935dd2b",
            "_dom_classes": [],
            "description": "",
            "_model_name": "HTMLModel",
            "placeholder": "​",
            "_view_module": "@jupyter-widgets/controls",
            "_model_module_version": "1.5.0",
            "value": " 2308/2593073 [00:20&lt;1:12:12, 598.01it/s]",
            "_view_count": null,
            "_view_module_version": "1.5.0",
            "description_tooltip": null,
            "_model_module": "@jupyter-widgets/controls",
            "layout": "IPY_MODEL_cd99e587162f48cbb7464cb3870cd9cc"
          }
        },
        "07d3e04f50ee46578cd10a25755e196f": {
          "model_module": "@jupyter-widgets/controls",
          "model_name": "ProgressStyleModel",
          "state": {
            "_view_name": "StyleView",
            "_model_name": "ProgressStyleModel",
            "description_width": "initial",
            "_view_module": "@jupyter-widgets/base",
            "_model_module_version": "1.5.0",
            "_view_count": null,
            "_view_module_version": "1.2.0",
            "bar_color": null,
            "_model_module": "@jupyter-widgets/controls"
          }
        },
        "5647cb57eb3a4a238a7aecdba35602e5": {
          "model_module": "@jupyter-widgets/base",
          "model_name": "LayoutModel",
          "state": {
            "_view_name": "LayoutView",
            "grid_template_rows": null,
            "right": null,
            "justify_content": null,
            "_view_module": "@jupyter-widgets/base",
            "overflow": null,
            "_model_module_version": "1.2.0",
            "_view_count": null,
            "flex_flow": null,
            "width": null,
            "min_width": null,
            "border": null,
            "align_items": null,
            "bottom": null,
            "_model_module": "@jupyter-widgets/base",
            "top": null,
            "grid_column": null,
            "overflow_y": null,
            "overflow_x": null,
            "grid_auto_flow": null,
            "grid_area": null,
            "grid_template_columns": null,
            "flex": null,
            "_model_name": "LayoutModel",
            "justify_items": null,
            "grid_row": null,
            "max_height": null,
            "align_content": null,
            "visibility": null,
            "align_self": null,
            "height": null,
            "min_height": null,
            "padding": null,
            "grid_auto_rows": null,
            "grid_gap": null,
            "max_width": null,
            "order": null,
            "_view_module_version": "1.2.0",
            "grid_template_areas": null,
            "object_position": null,
            "object_fit": null,
            "grid_auto_columns": null,
            "margin": null,
            "display": null,
            "left": null
          }
        },
        "cb1b7ee28007456eaf68b016d935dd2b": {
          "model_module": "@jupyter-widgets/controls",
          "model_name": "DescriptionStyleModel",
          "state": {
            "_view_name": "StyleView",
            "_model_name": "DescriptionStyleModel",
            "description_width": "",
            "_view_module": "@jupyter-widgets/base",
            "_model_module_version": "1.5.0",
            "_view_count": null,
            "_view_module_version": "1.2.0",
            "_model_module": "@jupyter-widgets/controls"
          }
        },
        "cd99e587162f48cbb7464cb3870cd9cc": {
          "model_module": "@jupyter-widgets/base",
          "model_name": "LayoutModel",
          "state": {
            "_view_name": "LayoutView",
            "grid_template_rows": null,
            "right": null,
            "justify_content": null,
            "_view_module": "@jupyter-widgets/base",
            "overflow": null,
            "_model_module_version": "1.2.0",
            "_view_count": null,
            "flex_flow": null,
            "width": null,
            "min_width": null,
            "border": null,
            "align_items": null,
            "bottom": null,
            "_model_module": "@jupyter-widgets/base",
            "top": null,
            "grid_column": null,
            "overflow_y": null,
            "overflow_x": null,
            "grid_auto_flow": null,
            "grid_area": null,
            "grid_template_columns": null,
            "flex": null,
            "_model_name": "LayoutModel",
            "justify_items": null,
            "grid_row": null,
            "max_height": null,
            "align_content": null,
            "visibility": null,
            "align_self": null,
            "height": null,
            "min_height": null,
            "padding": null,
            "grid_auto_rows": null,
            "grid_gap": null,
            "max_width": null,
            "order": null,
            "_view_module_version": "1.2.0",
            "grid_template_areas": null,
            "object_position": null,
            "object_fit": null,
            "grid_auto_columns": null,
            "margin": null,
            "display": null,
            "left": null
          }
        }
      }
    }
  },
  "cells": [
    {
      "cell_type": "markdown",
      "metadata": {
        "id": "view-in-github",
        "colab_type": "text"
      },
      "source": [
        "<a href=\"https://colab.research.google.com/github/dvolchek/pudel/blob/master/EdX_logs_2_xAPI_Converter.ipynb\" target=\"_parent\"><img src=\"https://colab.research.google.com/assets/colab-badge.svg\" alt=\"Open In Colab\"/></a>"
      ]
    },
    {
      "cell_type": "markdown",
      "metadata": {
        "id": "3Qm7SeA-LlDm"
      },
      "source": [
        "Скачивание файла (на примере Введения в МО)"
      ]
    },
    {
      "cell_type": "code",
      "metadata": {
        "colab": {
          "base_uri": "https://localhost:8080/"
        },
        "id": "4rYUvX5vLE_Z",
        "outputId": "083d70f7-e4b5-4d95-b59c-7a259313818a"
      },
      "source": [
        "!wget https://207918.selcdn.ru/jCJ5Ef1pLDebKtwW/SUPPORT-1373/ITMOUniversity_INTROML_fall_2019_ITMO.gz"
      ],
      "execution_count": null,
      "outputs": [
        {
          "output_type": "stream",
          "text": [
            "--2021-07-15 09:34:06--  https://207918.selcdn.ru/jCJ5Ef1pLDebKtwW/SUPPORT-1373/ITMOUniversity_INTROML_fall_2019_ITMO.gz\n",
            "Resolving 207918.selcdn.ru (207918.selcdn.ru)... 92.53.68.201, 92.53.68.203, 92.53.68.202, ...\n",
            "Connecting to 207918.selcdn.ru (207918.selcdn.ru)|92.53.68.201|:443... connected.\n",
            "HTTP request sent, awaiting response... ^C\n"
          ],
          "name": "stdout"
        }
      ]
    },
    {
      "cell_type": "code",
      "metadata": {
        "id": "3WhTXYN0L91w"
      },
      "source": [
        "!gunzip /content/ITMOUniversity_INTROML_fall_2019_ITMO.gz"
      ],
      "execution_count": null,
      "outputs": []
    },
    {
      "cell_type": "markdown",
      "metadata": {
        "id": "0GyBj8MmMArL"
      },
      "source": [
        "Посмотрим объем файла"
      ]
    },
    {
      "cell_type": "code",
      "metadata": {
        "colab": {
          "base_uri": "https://localhost:8080/"
        },
        "id": "mtYVu8NpMBO2",
        "outputId": "66140027-0378-4ca3-c73b-95eb7054c686"
      },
      "source": [
        "import os\n",
        "\n",
        "def convert_bytes(num):\n",
        "    for x in ['bytes', 'KB', 'MB', 'GB', 'TB']:\n",
        "        if num < 1024.0:\n",
        "            return \"%3.1f %s\" % (num, x)\n",
        "        num /= 1024.0\n",
        "\n",
        "print('Размер файла: ', convert_bytes(os.path.getsize('ITMOUniversity_INTROML_fall_2019_ITMO')))\n"
      ],
      "execution_count": null,
      "outputs": [
        {
          "output_type": "stream",
          "text": [
            "Размер файла:  5.2 GB\n"
          ],
          "name": "stdout"
        }
      ]
    },
    {
      "cell_type": "markdown",
      "metadata": {
        "id": "NL1sWs_EMVNU"
      },
      "source": [
        "Считаем какое-то количество записей"
      ]
    },
    {
      "cell_type": "code",
      "metadata": {
        "colab": {
          "base_uri": "https://localhost:8080/",
          "height": 49,
          "referenced_widgets": [
            "14da1969f6ad4b388014c96d500eb279",
            "34ed6c7544564b989f275059fc440963",
            "c68e203b20004aa7a74295e4b80a7777",
            "fe9a102454464a21847b11feb59fbd82",
            "07d3e04f50ee46578cd10a25755e196f",
            "5647cb57eb3a4a238a7aecdba35602e5",
            "cb1b7ee28007456eaf68b016d935dd2b",
            "cd99e587162f48cbb7464cb3870cd9cc"
          ]
        },
        "id": "enBkHASmMUaQ",
        "outputId": "46b16c91-6f7c-44e7-a222-66f5066d14c4"
      },
      "source": [
        "from tqdm.notebook import tqdm\n",
        "import json\n",
        "\n",
        "filename = 'ITMOUniversity_INTROML_fall_2019_ITMO'\n",
        "\n",
        "batch = []\n",
        "\n",
        "all_records = 2593073\n",
        "\n",
        "batch_size = 3000\n",
        "\n",
        "counter = 0\n",
        "\n",
        "with open(filename) as f:\n",
        "  for log in tqdm(f, total = all_records):\n",
        "    batch.append(json.loads(log))\n",
        "    counter += 1\n",
        "    if counter == batch_size:\n",
        "      break"
      ],
      "execution_count": null,
      "outputs": [
        {
          "output_type": "display_data",
          "data": {
            "application/vnd.jupyter.widget-view+json": {
              "model_id": "14da1969f6ad4b388014c96d500eb279",
              "version_minor": 0,
              "version_major": 2
            },
            "text/plain": [
              "HBox(children=(FloatProgress(value=0.0, max=2593073.0), HTML(value='')))"
            ]
          },
          "metadata": {
            "tags": []
          }
        }
      ]
    },
    {
      "cell_type": "code",
      "metadata": {
        "colab": {
          "base_uri": "https://localhost:8080/"
        },
        "id": "ydocJmU9NVc9",
        "outputId": "8ad11c35-dabf-47f9-8af5-9a3795278e0e"
      },
      "source": [
        "batch[2400]"
      ],
      "execution_count": null,
      "outputs": [
        {
          "output_type": "execute_result",
          "data": {
            "text/plain": [
              "{'accept_language': 'ru',\n",
              " 'agent': 'Mozilla/5.0 (Macintosh; Intel Mac OS X 10_15) AppleWebKit/605.1.15 (KHTML, like Gecko) Version/13.0.2 Safari/605.1.15',\n",
              " 'context': {'course_id': 'course-v1:ITMOUniversity+INTROML+fall_2019_ITMO',\n",
              "  'org_id': 'ITMOUniversity',\n",
              "  'path': '/event',\n",
              "  'user_id': 30996},\n",
              " 'event': '{\"code\": \"HGXuskzH168\", \"id\": \"e30872cf79d74353aa21cc707fc0f76a\", \"currentTime\": 298.7626180995719}',\n",
              " 'event_source': 'browser',\n",
              " 'event_type': 'pause_video',\n",
              " 'host': 'courses.openedu.ru',\n",
              " 'ip': '89.110.53.214',\n",
              " 'name': 'pause_video',\n",
              " 'page': 'https://courses.openedu.ru/courses/course-v1:ITMOUniversity+INTROML+fall_2019_ITMO/courseware/ca2ead8a7d1a4f549c49a3784b7c502d/183fe2341c174ba8b725f2b974ecf9bc/',\n",
              " 'referer': 'https://courses.openedu.ru/courses/course-v1:ITMOUniversity+INTROML+fall_2019_ITMO/courseware/ca2ead8a7d1a4f549c49a3784b7c502d/183fe2341c174ba8b725f2b974ecf9bc/',\n",
              " 'session': '904cb83c5e29c8e59d88ba1bfc79400f',\n",
              " 'time': '2019-10-30T14:07:16.738339+00:00',\n",
              " 'username': 'boitsev'}"
            ]
          },
          "metadata": {
            "tags": []
          },
          "execution_count": 52
        }
      ]
    },
    {
      "cell_type": "code",
      "metadata": {
        "id": "l9MF4Sznb8M5"
      },
      "source": [
        "data = batch[2400]\n",
        "\n",
        "\n",
        "with open('test_log.log', 'w') as outfile:\n",
        "    json.dump(data, outfile)"
      ],
      "execution_count": null,
      "outputs": []
    },
    {
      "cell_type": "code",
      "metadata": {
        "colab": {
          "base_uri": "https://localhost:8080/"
        },
        "id": "JcaJxlradSo4",
        "outputId": "62f764e2-5d5d-4e78-960c-c50319596f5d"
      },
      "source": [
        "!pip install tincan"
      ],
      "execution_count": null,
      "outputs": [
        {
          "output_type": "stream",
          "text": [
            "Collecting tincan\n",
            "\u001b[?25l  Downloading https://files.pythonhosted.org/packages/a1/08/19b482267863765a2cdabe0031dc0c626fcd9c65da88e8f831e473971cd6/tincan-1.0.0-py3-none-any.whl (58kB)\n",
            "\r\u001b[K     |█████▋                          | 10kB 11.3MB/s eta 0:00:01\r\u001b[K     |███████████▏                    | 20kB 15.1MB/s eta 0:00:01\r\u001b[K     |████████████████▉               | 30kB 19.1MB/s eta 0:00:01\r\u001b[K     |██████████████████████▍         | 40kB 22.4MB/s eta 0:00:01\r\u001b[K     |████████████████████████████    | 51kB 25.1MB/s eta 0:00:01\r\u001b[K     |████████████████████████████████| 61kB 5.8MB/s \n",
            "\u001b[?25hRequirement already satisfied: pytz in /usr/local/lib/python3.7/dist-packages (from tincan) (2018.9)\n",
            "Collecting aniso8601\n",
            "\u001b[?25l  Downloading https://files.pythonhosted.org/packages/e3/04/e97c12dc034791d7b504860acfcdd2963fa21ae61eaca1c9d31245f812c3/aniso8601-9.0.1-py2.py3-none-any.whl (52kB)\n",
            "\u001b[K     |████████████████████████████████| 61kB 6.5MB/s \n",
            "\u001b[?25hInstalling collected packages: aniso8601, tincan\n",
            "Successfully installed aniso8601-9.0.1 tincan-1.0.0\n"
          ],
          "name": "stdout"
        }
      ]
    },
    {
      "cell_type": "code",
      "metadata": {
        "colab": {
          "base_uri": "https://localhost:8080/",
          "height": 1000
        },
        "id": "cuadkFKdVrmo",
        "outputId": "bb17cde5-54eb-40a2-90f4-dec35e6aab30"
      },
      "source": [
        "#Попытка запуска из коробки -- не самая удачная идея, тк в оригинале используется версия Pythom 2.7, что влечет кучу трудностей\n",
        "\n",
        "#!git clone https://github.com/adlnet/edx-xapi-bridge.git\n",
        "#!pip install --upgrade pip\n",
        "!pip install -r /content/edx-xapi-bridge/requirements/base.txt\n",
        "#!pip install pyinotify\n",
        "#import wsgiref\n",
        "#!python /content/edx-xapi-bridge/xapi-bridge/__main__.py /content/test_log.log"
      ],
      "execution_count": null,
      "outputs": [
        {
          "output_type": "stream",
          "text": [
            "Obtaining file:///content/edx-xapi-bridge (from -r /content/edx-xapi-bridge/requirements/base.txt (line 14))\n",
            "Collecting argparse==1.2.1\n",
            "\u001b[?25l  Downloading https://files.pythonhosted.org/packages/6f/ad/86448942ad49c5fe05bfdf7ebc874807f521dfcca5ee543afaca2974ad5a/argparse-1.2.1.tar.gz (69kB)\n",
            "\u001b[K     |████████████████████████████████| 71kB 7.2MB/s \n",
            "\u001b[?25hCollecting certifi==14.05.14\n",
            "\u001b[?25l  Downloading https://files.pythonhosted.org/packages/c1/ed/4a424a55f77679700452972e583393b64160583c80ffa893b4be9391f3ae/certifi-14.05.14.tar.gz (168kB)\n",
            "\u001b[K     |████████████████████████████████| 174kB 30.4MB/s \n",
            "\u001b[?25hCollecting edx_rest_api_client==1.8.2\n",
            "  Downloading https://files.pythonhosted.org/packages/37/a9/182c44c0aa42ab07f90bc7f3e666c935f1770265bf5b25c31f6faf386d10/edx_rest_api_client-1.8.2-py3-none-any.whl\n",
            "Collecting pyinotify==0.9.6\n",
            "\u001b[?25l  Downloading https://files.pythonhosted.org/packages/e3/c0/fd5b18dde17c1249658521f69598f3252f11d9d7a980c5be8619970646e1/pyinotify-0.9.6.tar.gz (60kB)\n",
            "\u001b[K     |████████████████████████████████| 61kB 5.2MB/s \n",
            "\u001b[?25hCollecting python-memcached==1.59\n",
            "  Downloading https://files.pythonhosted.org/packages/f5/90/19d3908048f70c120ec66a39e61b92c253e834e6e895cd104ce5e46cbe53/python_memcached-1.59-py2.py3-none-any.whl\n",
            "Collecting requests==2.4.0\n",
            "\u001b[?25l  Downloading https://files.pythonhosted.org/packages/78/14/23cf8ede304c7c8b69b929b17074292073827239c31659ab8c7beb22a059/requests-2.4.0-py2.py3-none-any.whl (457kB)\n",
            "\u001b[K     |████████████████████████████████| 460kB 29.7MB/s \n",
            "\u001b[?25hRequirement already satisfied: six in /usr/local/lib/python3.7/dist-packages (from -r /content/edx-xapi-bridge/requirements/base.txt (line 7)) (1.15.0)\n",
            "Requirement already satisfied: tincan from git+https://github.com/appsembler/TinCanPython.git@appsembler/fix-about-from-json#egg=tincan in /usr/local/lib/python3.7/dist-packages (from -r /content/edx-xapi-bridge/requirements/base.txt (line 11)) (1.0.0)\n",
            "Collecting slumber<1.0,>=0.7.1\n",
            "  Downloading https://files.pythonhosted.org/packages/17/3a/6d42c6a5909207aa2487fda0c6f09c7dac259e5154d6ad74ec160db69660/slumber-0.7.1.tar.gz\n",
            "Collecting PyJWT<2.0,>=1.1.0\n",
            "  Downloading https://files.pythonhosted.org/packages/87/8b/6a9f14b5f781697e51259d81657e6048fd31a113229cf346880bb7545565/PyJWT-1.7.1-py2.py3-none-any.whl\n",
            "Requirement already satisfied: pytz in /usr/local/lib/python3.7/dist-packages (from tincan->-r /content/edx-xapi-bridge/requirements/base.txt (line 11)) (2018.9)\n",
            "Requirement already satisfied: aniso8601 in /usr/local/lib/python3.7/dist-packages (from tincan->-r /content/edx-xapi-bridge/requirements/base.txt (line 11)) (9.0.1)\n",
            "Building wheels for collected packages: argparse, certifi, pyinotify, slumber\n",
            "  Building wheel for argparse (setup.py) ... \u001b[?25l\u001b[?25hdone\n",
            "  Created wheel for argparse: filename=argparse-1.2.1-cp37-none-any.whl size=21383 sha256=2e60cdc4bea74f56da82e06d085cc03e577b46ada732332247b058c5fd028f95\n",
            "  Stored in directory: /root/.cache/pip/wheels/30/35/38/aa7be52cca01ed539bd6f3789edb8489691cc7d9a010cbc982\n",
            "  Building wheel for certifi (setup.py) ... \u001b[?25l\u001b[?25hdone\n",
            "  Created wheel for certifi: filename=certifi-14.5.14-py2.py3-none-any.whl size=169225 sha256=379b322e77c5d7561a057d72918d739385f477339c6c74a7b00b0797e80ac55f\n",
            "  Stored in directory: /root/.cache/pip/wheels/c9/49/7d/eeb0d3f601f59ca6df513423527f98b1c6533a5abdb68b8573\n",
            "  Building wheel for pyinotify (setup.py) ... \u001b[?25l\u001b[?25hdone\n",
            "  Created wheel for pyinotify: filename=pyinotify-0.9.6-cp37-none-any.whl size=25353 sha256=1c3b6cdd0573a8a8b2df7773c57dda0f00b1f04e28b88f9fbffc5fdecfe3fb22\n",
            "  Stored in directory: /root/.cache/pip/wheels/e0/62/fe/a68c26dff6ed01a86d8a5aa8e01d7687a5a29c7d765af383cb\n",
            "  Building wheel for slumber (setup.py) ... \u001b[?25l\u001b[?25hdone\n",
            "  Created wheel for slumber: filename=slumber-0.7.1-cp37-none-any.whl size=8116 sha256=0194d67f07fc8e1c674533ac87850ff510b2e80e58ef91f4a94cef7b53d581c9\n",
            "  Stored in directory: /root/.cache/pip/wheels/48/ae/95/28defa1956124d566c55e105d5e8ecacc63c4ad0b6e15d08bd\n",
            "Successfully built argparse certifi pyinotify slumber\n",
            "\u001b[31mERROR: tweepy 3.10.0 has requirement requests[socks]>=2.11.1, but you'll have requests 2.4.0 which is incompatible.\u001b[0m\n",
            "\u001b[31mERROR: tensorflow-datasets 4.0.1 has requirement requests>=2.19.0, but you'll have requests 2.4.0 which is incompatible.\u001b[0m\n",
            "\u001b[31mERROR: tensorboard 2.5.0 has requirement requests<3,>=2.21.0, but you'll have requests 2.4.0 which is incompatible.\u001b[0m\n",
            "\u001b[31mERROR: spacy 2.2.4 has requirement requests<3.0.0,>=2.13.0, but you'll have requests 2.4.0 which is incompatible.\u001b[0m\n",
            "\u001b[31mERROR: pandas-datareader 0.9.0 has requirement requests>=2.19.0, but you'll have requests 2.4.0 which is incompatible.\u001b[0m\n",
            "\u001b[31mERROR: google-colab 1.0.0 has requirement requests~=2.23.0, but you'll have requests 2.4.0 which is incompatible.\u001b[0m\n",
            "\u001b[31mERROR: google-api-core 1.26.3 has requirement requests<3.0.0dev,>=2.18.0, but you'll have requests 2.4.0 which is incompatible.\u001b[0m\n",
            "\u001b[31mERROR: datascience 0.10.6 has requirement folium==0.2.1, but you'll have folium 0.8.3 which is incompatible.\u001b[0m\n",
            "Installing collected packages: argparse, certifi, requests, slumber, PyJWT, edx-rest-api-client, pyinotify, python-memcached, edx-xapi-bridge\n",
            "  Found existing installation: certifi 2021.5.30\n",
            "    Uninstalling certifi-2021.5.30:\n",
            "      Successfully uninstalled certifi-2021.5.30\n",
            "  Found existing installation: requests 2.23.0\n",
            "    Uninstalling requests-2.23.0:\n",
            "      Successfully uninstalled requests-2.23.0\n",
            "  Found existing installation: edx-xapi-bridge 0.1\n",
            "    Uninstalling edx-xapi-bridge-0.1:\n",
            "      Successfully uninstalled edx-xapi-bridge-0.1\n",
            "  Running setup.py develop for edx-xapi-bridge\n",
            "Successfully installed PyJWT-1.7.1 argparse-1.2.1 certifi-14.5.14 edx-rest-api-client-1.8.2 edx-xapi-bridge pyinotify-0.9.6 python-memcached-1.59 requests-2.4.0 slumber-0.7.1\n"
          ],
          "name": "stdout"
        },
        {
          "output_type": "display_data",
          "data": {
            "application/vnd.colab-display-data+json": {
              "pip_warning": {
                "packages": [
                  "argparse",
                  "certifi",
                  "requests"
                ]
              }
            }
          },
          "metadata": {
            "tags": []
          }
        }
      ]
    },
    {
      "cell_type": "code",
      "metadata": {
        "colab": {
          "base_uri": "https://localhost:8080/"
        },
        "id": "2SCZGYRFVunN",
        "outputId": "c3c6b19c-057d-4c9a-94f4-32285ff0f41e"
      },
      "source": [
        "!git clone https://github.com/appsembler/edx-xapi-bridge.git\n"
      ],
      "execution_count": null,
      "outputs": [
        {
          "output_type": "stream",
          "text": [
            "Cloning into 'edx-xapi-bridge'...\n",
            "remote: Enumerating objects: 585, done.\u001b[K\n",
            "remote: Counting objects: 100% (6/6), done.\u001b[K\n",
            "remote: Compressing objects: 100% (6/6), done.\u001b[K\n",
            "remote: Total 585 (delta 0), reused 4 (delta 0), pack-reused 579\u001b[K\n",
            "Receiving objects: 100% (585/585), 107.64 KiB | 13.46 MiB/s, done.\n",
            "Resolving deltas: 100% (381/381), done.\n"
          ],
          "name": "stdout"
        }
      ]
    },
    {
      "cell_type": "code",
      "metadata": {
        "id": "pmKiRMzZXMvU"
      },
      "source": [
        "%cd /content/edx-xapi-bridge/\n",
        "!sudo python setup.py install"
      ],
      "execution_count": null,
      "outputs": []
    },
    {
      "cell_type": "code",
      "metadata": {
        "id": "nixeU6_Jh1ru"
      },
      "source": [
        "import xapi_bridge"
      ],
      "execution_count": null,
      "outputs": []
    },
    {
      "cell_type": "code",
      "metadata": {
        "id": "xVRHt0khiQts"
      },
      "source": [
        "evt = {'accept_language': 'ru',\n",
        " 'agent': 'Mozilla/5.0 (Macintosh; Intel Mac OS X 10_15) AppleWebKit/605.1.15 (KHTML, like Gecko) Version/13.0.2 Safari/605.1.15',\n",
        " 'context': {'course_id': 'course-v1:ITMOUniversity+INTROML+fall_2019_ITMO',\n",
        "  'org_id': 'ITMOUniversity',\n",
        "  'path': '/event',\n",
        "  'user_id': 30996},\n",
        " 'event': '{\"code\": \"HGXuskzH168\", \"id\": \"e30872cf79d74353aa21cc707fc0f76a\", \"currentTime\": 298.7626180995719}',\n",
        " 'event_source': 'browser',\n",
        " 'event_type': 'pause_video',\n",
        " 'host': 'courses.openedu.ru',\n",
        " 'ip': '89.110.53.214',\n",
        " 'name': 'pause_video',\n",
        " 'page': 'https://courses.openedu.ru/courses/course-v1:ITMOUniversity+INTROML+fall_2019_ITMO/courseware/ca2ead8a7d1a4f549c49a3784b7c502d/183fe2341c174ba8b725f2b974ecf9bc/',\n",
        " 'referer': 'https://courses.openedu.ru/courses/course-v1:ITMOUniversity+INTROML+fall_2019_ITMO/courseware/ca2ead8a7d1a4f549c49a3784b7c502d/183fe2341c174ba8b725f2b974ecf9bc/',\n",
        " 'session': '904cb83c5e29c8e59d88ba1bfc79400f',\n",
        " 'time': '2019-10-30T14:07:16.738339+00:00',\n",
        " 'username': 'boitsev'}"
      ],
      "execution_count": null,
      "outputs": []
    },
    {
      "cell_type": "code",
      "metadata": {
        "id": "4XnBUddiiV_V"
      },
      "source": [
        "import json\n",
        "import requests\n",
        "import logging\n",
        "import memcache\n",
        "from xapi_bridge import exceptions, settings\n",
        "from xapi_bridge import constants\n",
        "from xapi_bridge import exceptions\n",
        "from xapi_bridge import settings\n",
        "\n",
        "from xapi_bridge import converter\n",
        "\n",
        "#from xapi_bridge import lms_api\n",
        "from xapi_bridge.statements import base\n",
        "from xapi_bridge.statements import course\n",
        "from xapi_bridge.statements import navigation\n",
        "from xapi_bridge.statements import problem\n",
        "from xapi_bridge.statements import video\n"
      ],
      "execution_count": null,
      "outputs": []
    },
    {
      "cell_type": "code",
      "metadata": {
        "colab": {
          "base_uri": "https://localhost:8080/",
          "height": 647
        },
        "id": "TIxdC214qkpe",
        "outputId": "7e0f3cbd-7cdc-40e3-ee1c-c5b2da7a8c89"
      },
      "source": [
        "from xapi_bridge import converter\n",
        "converter.to_xapi(evt)"
      ],
      "execution_count": null,
      "outputs": [
        {
          "output_type": "error",
          "ename": "KeyError",
          "evalue": "ignored",
          "traceback": [
            "\u001b[0;31m---------------------------------------------------------------------------\u001b[0m",
            "\u001b[0;31mKeyError\u001b[0m                                  Traceback (most recent call last)",
            "\u001b[0;32m<ipython-input-116-4ff72714358a>\u001b[0m in \u001b[0;36m<module>\u001b[0;34m()\u001b[0m\n\u001b[1;32m      1\u001b[0m \u001b[0;32mfrom\u001b[0m \u001b[0mxapi_bridge\u001b[0m \u001b[0;32mimport\u001b[0m \u001b[0mconverter\u001b[0m\u001b[0;34m\u001b[0m\u001b[0;34m\u001b[0m\u001b[0m\n\u001b[0;32m----> 2\u001b[0;31m \u001b[0mconverter\u001b[0m\u001b[0;34m.\u001b[0m\u001b[0mto_xapi\u001b[0m\u001b[0;34m(\u001b[0m\u001b[0mevt\u001b[0m\u001b[0;34m)\u001b[0m\u001b[0;34m\u001b[0m\u001b[0;34m\u001b[0m\u001b[0m\n\u001b[0m",
            "\u001b[0;32m/content/edx-xapi-bridge/xapi_bridge/converter.py\u001b[0m in \u001b[0;36mto_xapi\u001b[0;34m(evt)\u001b[0m\n\u001b[1;32m     74\u001b[0m \u001b[0;34m\u001b[0m\u001b[0m\n\u001b[1;32m     75\u001b[0m     \u001b[0;32mtry\u001b[0m\u001b[0;34m:\u001b[0m\u001b[0;34m\u001b[0m\u001b[0;34m\u001b[0m\u001b[0m\n\u001b[0;32m---> 76\u001b[0;31m         \u001b[0mstatement\u001b[0m \u001b[0;34m=\u001b[0m \u001b[0mstatement_class\u001b[0m\u001b[0;34m(\u001b[0m\u001b[0mevt\u001b[0m\u001b[0;34m)\u001b[0m\u001b[0;34m\u001b[0m\u001b[0;34m\u001b[0m\u001b[0m\n\u001b[0m\u001b[1;32m     77\u001b[0m         \u001b[0;32mif\u001b[0m \u001b[0mhasattr\u001b[0m\u001b[0;34m(\u001b[0m\u001b[0mstatement\u001b[0m\u001b[0;34m,\u001b[0m \u001b[0;34m'version'\u001b[0m\u001b[0;34m)\u001b[0m\u001b[0;34m:\u001b[0m  \u001b[0;31m# make sure it's a proper statement\u001b[0m\u001b[0;34m\u001b[0m\u001b[0;34m\u001b[0m\u001b[0m\n\u001b[1;32m     78\u001b[0m             \u001b[0;32mreturn\u001b[0m \u001b[0;34m(\u001b[0m\u001b[0mstatement\u001b[0m\u001b[0;34m,\u001b[0m \u001b[0;34m)\u001b[0m\u001b[0;34m\u001b[0m\u001b[0;34m\u001b[0m\u001b[0m\n",
            "\u001b[0;32m/content/edx-xapi-bridge/xapi_bridge/statements/base.py\u001b[0m in \u001b[0;36m__init__\u001b[0;34m(self, event, *args, **kwargs)\u001b[0m\n\u001b[1;32m     24\u001b[0m         \u001b[0;32mtry\u001b[0m\u001b[0;34m:\u001b[0m\u001b[0;34m\u001b[0m\u001b[0;34m\u001b[0m\u001b[0m\n\u001b[1;32m     25\u001b[0m             kwargs.update(\n\u001b[0;32m---> 26\u001b[0;31m                 \u001b[0;31m#actor=self.get_actor(event),\u001b[0m\u001b[0;34m\u001b[0m\u001b[0;34m\u001b[0m\u001b[0;34m\u001b[0m\u001b[0m\n\u001b[0m\u001b[1;32m     27\u001b[0m                 \u001b[0mactor\u001b[0m\u001b[0;34m=\u001b[0m\u001b[0mAgent\u001b[0m\u001b[0;34m(\u001b[0m\u001b[0mname\u001b[0m\u001b[0;34m=\u001b[0m\u001b[0;34m'Anton'\u001b[0m\u001b[0;34m,\u001b[0m \u001b[0mmbox\u001b[0m\u001b[0;34m=\u001b[0m\u001b[0;34m'mailto:{}'\u001b[0m\u001b[0;34m.\u001b[0m\u001b[0mformat\u001b[0m\u001b[0;34m(\u001b[0m\u001b[0;34m'boitsev@gmail.com'\u001b[0m\u001b[0;34m)\u001b[0m\u001b[0;34m)\u001b[0m\u001b[0;34m,\u001b[0m\u001b[0;34m\u001b[0m\u001b[0;34m\u001b[0m\u001b[0m\n\u001b[1;32m     28\u001b[0m                 \u001b[0mverb\u001b[0m\u001b[0;34m=\u001b[0m\u001b[0mself\u001b[0m\u001b[0;34m.\u001b[0m\u001b[0mget_verb\u001b[0m\u001b[0;34m(\u001b[0m\u001b[0mevent\u001b[0m\u001b[0;34m)\u001b[0m\u001b[0;34m,\u001b[0m\u001b[0;34m\u001b[0m\u001b[0;34m\u001b[0m\u001b[0m\n",
            "\u001b[0;32m/content/edx-xapi-bridge/xapi_bridge/statements/base.py\u001b[0m in \u001b[0;36mget_actor\u001b[0;34m(self, event)\u001b[0m\n\u001b[1;32m     61\u001b[0m         \u001b[0;31m#edx_user_info = {'email': 'boitsev@gmail.com', 'fullname': 'Антон Александрович'}\u001b[0m\u001b[0;34m\u001b[0m\u001b[0;34m\u001b[0m\u001b[0;34m\u001b[0m\u001b[0m\n\u001b[1;32m     62\u001b[0m         \u001b[0;31m#if not edx_user_info['email']:\u001b[0m\u001b[0;34m\u001b[0m\u001b[0;34m\u001b[0m\u001b[0;34m\u001b[0m\u001b[0m\n\u001b[0;32m---> 63\u001b[0;31m         \u001b[0;31m#  return None\u001b[0m\u001b[0;34m\u001b[0m\u001b[0;34m\u001b[0m\u001b[0;34m\u001b[0m\u001b[0m\n\u001b[0m\u001b[1;32m     64\u001b[0m \u001b[0;34m\u001b[0m\u001b[0m\n\u001b[1;32m     65\u001b[0m         \u001b[0;31m#return Agent(\u001b[0m\u001b[0;34m\u001b[0m\u001b[0;34m\u001b[0m\u001b[0;34m\u001b[0m\u001b[0m\n",
            "\u001b[0;31mKeyError\u001b[0m: 'email'"
          ]
        }
      ]
    },
    {
      "cell_type": "code",
      "metadata": {
        "colab": {
          "base_uri": "https://localhost:8080/"
        },
        "id": "MPpw0IyDwWRu",
        "outputId": "0f4aa616-c2b0-498f-813c-b4fe9fcfba54"
      },
      "source": [
        "from tincan import Agent\n",
        "\n",
        "def get_actor(event):\n",
        "        \"\"\"Get Actor for the statement.\"\"\"\n",
        "        #edx_user_info = self._get_edx_user_info(event['username'])\n",
        "        #свой кастомный юзер, чтоб проверить\n",
        "        #вообще эту инфу нужно откуда-то подтягивать\n",
        "\n",
        "        edx_user_info = {'email': 'boitsev@gmail.com', 'fullname': 'Антон Александрович'}\n",
        "        if not edx_user_info['email']:\n",
        "            return None\n",
        "\n",
        "\n",
        "        return Agent(\n",
        "            name=edx_user_info['fullname'],\n",
        "            mbox='mailto:{}'.format(edx_user_info['email']),\n",
        "        )\n",
        "agent = get_actor(evt)\n",
        "agent"
      ],
      "execution_count": null,
      "outputs": [
        {
          "output_type": "stream",
          "text": [
            "ok\n"
          ],
          "name": "stdout"
        },
        {
          "output_type": "execute_result",
          "data": {
            "text/plain": [
              "<tincan.agent.Agent at 0x7f18d43026d0>"
            ]
          },
          "metadata": {
            "tags": []
          },
          "execution_count": 99
        }
      ]
    },
    {
      "cell_type": "code",
      "metadata": {
        "colab": {
          "base_uri": "https://localhost:8080/",
          "height": 54
        },
        "id": "KE2RykSE6Iql",
        "outputId": "4d6c204c-f0ee-49dd-e285-e40ec9fa3b0c"
      },
      "source": [
        "a = Agent(name='Anton', mbox='mailto:{}'.format('boitsev@gmail.com'))\n"
      ],
      "execution_count": null,
      "outputs": [
        {
          "output_type": "execute_result",
          "data": {
            "application/vnd.google.colaboratory.intrinsic+json": {
              "type": "string"
            },
            "text/plain": [
              "'{\"objectType\": \"Agent\", \"name\": \"Anton\", \"mbox\": \"mailto:boitsev@gmail.com\"}'"
            ]
          },
          "metadata": {
            "tags": []
          },
          "execution_count": 112
        }
      ]
    },
    {
      "cell_type": "code",
      "metadata": {
        "colab": {
          "base_uri": "https://localhost:8080/",
          "height": 37
        },
        "id": "vnXNDLKd1QW9",
        "outputId": "7355b100-aee4-4642-b98a-f0d40a8f5c17"
      },
      "source": [
        "OPENEDX_PLATFORM_URI = 'https://open.edx.org'\n",
        "arg = Context(platform=OPENEDX_PLATFORM_URI)\n",
        "arg.to_json()"
      ],
      "execution_count": null,
      "outputs": [
        {
          "output_type": "execute_result",
          "data": {
            "application/vnd.google.colaboratory.intrinsic+json": {
              "type": "string"
            },
            "text/plain": [
              "'{\"platform\": \"https://open.edx.org\"}'"
            ]
          },
          "metadata": {
            "tags": []
          },
          "execution_count": 96
        }
      ]
    },
    {
      "cell_type": "code",
      "metadata": {
        "id": "nywuGpEj7RTi"
      },
      "source": [
        "!zip -r /content/file.zip /content/edx-xapi-bridge"
      ],
      "execution_count": null,
      "outputs": []
    },
    {
      "cell_type": "code",
      "metadata": {
        "colab": {
          "base_uri": "https://localhost:8080/"
        },
        "id": "OhfAvhUNMsew",
        "outputId": "81bba633-463d-4013-8529-0168fdaa14a9"
      },
      "source": [
        "import number\n",
        "\n",
        "number.calculate(4)"
      ],
      "execution_count": 3,
      "outputs": [
        {
          "output_type": "execute_result",
          "data": {
            "text/plain": [
              "16"
            ]
          },
          "metadata": {
            "tags": []
          },
          "execution_count": 3
        }
      ]
    }
  ]
}